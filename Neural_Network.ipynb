{
 "cells": [
  {
   "cell_type": "markdown",
   "metadata": {},
   "source": [
    "# Python Vectorization"
   ]
  },
  {
   "cell_type": "code",
   "execution_count": 1,
   "metadata": {},
   "outputs": [],
   "source": [
    "import numpy as np"
   ]
  },
  {
   "cell_type": "code",
   "execution_count": 2,
   "metadata": {},
   "outputs": [],
   "source": [
    "N = 1000\n",
    "M = 5000"
   ]
  },
  {
   "cell_type": "code",
   "execution_count": 3,
   "metadata": {},
   "outputs": [],
   "source": [
    "W = np.random.rand(M,N)"
   ]
  },
  {
   "cell_type": "code",
   "execution_count": 4,
   "metadata": {},
   "outputs": [],
   "source": [
    "x = np.random.rand(N)"
   ]
  },
  {
   "cell_type": "code",
   "execution_count": 5,
   "metadata": {},
   "outputs": [
    {
     "name": "stdout",
     "output_type": "stream",
     "text": [
      "261.91032997754536\n",
      "Wall time: 10.5 s\n"
     ]
    }
   ],
   "source": [
    "%%time\n",
    "y_ = np.zeros([M])\n",
    "for m in range(M):\n",
    "    for n in range(N):\n",
    "        y_[m] += W[m,n] * x[n]\n",
    "print(y_[0])"
   ]
  },
  {
   "cell_type": "code",
   "execution_count": 6,
   "metadata": {},
   "outputs": [
    {
     "name": "stdout",
     "output_type": "stream",
     "text": [
      "261.91032997754536\n",
      "Wall time: 12.5 ms\n"
     ]
    }
   ],
   "source": [
    "%%time \n",
    "y = W @ x\n",
    "print(y[0])"
   ]
  },
  {
   "cell_type": "code",
   "execution_count": 7,
   "metadata": {},
   "outputs": [],
   "source": [
    "assert np.allclose(y_,y)"
   ]
  },
  {
   "cell_type": "markdown",
   "metadata": {},
   "source": [
    "# Perceptron Classification"
   ]
  },
  {
   "cell_type": "markdown",
   "metadata": {},
   "source": [
    "### Input"
   ]
  },
  {
   "cell_type": "code",
   "execution_count": 8,
   "metadata": {},
   "outputs": [],
   "source": [
    "N = 2 # Number of Input Vectors\n",
    "M = 5 # Number of Features"
   ]
  },
  {
   "cell_type": "code",
   "execution_count": 9,
   "metadata": {},
   "outputs": [],
   "source": [
    "def init_weights(M):\n",
    "    W = np.random.uniform(low = -0.3, high = 0.3, size = M)\n",
    "    W = np.concatenate(([1.],W)) # Add w0 as bias term\n",
    "    return W"
   ]
  },
  {
   "cell_type": "code",
   "execution_count": 10,
   "metadata": {},
   "outputs": [],
   "source": [
    "def init_multi_level_weights(num_hidd_layers, perc_per_layer,M):\n",
    "    W = []\n",
    "    biases = []\n",
    "    # Input Layer\n",
    "    W.append(np.random.uniform(low = -0.3, high = 0.3, size = (perc_per_layer,M)))\n",
    "    biases.append(np.ones((1,perc_per_layer)))\n",
    "    \n",
    "    # Hidden Layers \n",
    "    for l in range(1,num_hidd_layers):\n",
    "        W.append(np.random.uniform(low = -0.3, high = 0.3, size = (perc_per_layer,perc_per_layer)))\n",
    "        biases.append(np.ones((1,perc_per_layer)))\n",
    "    \n",
    "    # Output Layer\n",
    "    W.append(np.random.uniform(low = -0.3, high = 0.3, size = perc_per_layer))\n",
    "    biases.append(np.ones((1)))\n",
    "    \n",
    "    return W,biases"
   ]
  },
  {
   "cell_type": "code",
   "execution_count": 11,
   "metadata": {},
   "outputs": [],
   "source": [
    "def get_input(N,M):\n",
    "    x = np.random.rand(N,M)\n",
    "    return x"
   ]
  },
  {
   "cell_type": "markdown",
   "metadata": {},
   "source": [
    "### Ploting Functions"
   ]
  },
  {
   "cell_type": "code",
   "execution_count": 12,
   "metadata": {},
   "outputs": [],
   "source": [
    "import matplotlib.pyplot as plt"
   ]
  },
  {
   "cell_type": "code",
   "execution_count": 13,
   "metadata": {},
   "outputs": [],
   "source": [
    "def plot_loss(loss: np.array):\n",
    "    plt.title(\"Loss\")\n",
    "    plt.xlabel(\"Iteration\")\n",
    "    plt.plot(loss)\n",
    "    plt.show()"
   ]
  },
  {
   "cell_type": "markdown",
   "metadata": {},
   "source": [
    "### Perceptron"
   ]
  },
  {
   "cell_type": "markdown",
   "metadata": {},
   "source": [
    "Simple Perceptron for Binary Classification."
   ]
  },
  {
   "cell_type": "markdown",
   "metadata": {},
   "source": [
    "#### Sigmoid Activation Function"
   ]
  },
  {
   "cell_type": "code",
   "execution_count": 14,
   "metadata": {},
   "outputs": [],
   "source": [
    "def sigmoid(x):\n",
    "    return 1.0 / (1.0 + np.exp(-x))"
   ]
  },
  {
   "cell_type": "code",
   "execution_count": 15,
   "metadata": {},
   "outputs": [],
   "source": [
    "def d_sigmoid(x):\n",
    "    return sigmoid(x) * (1 - sigmoid(x))"
   ]
  },
  {
   "cell_type": "markdown",
   "metadata": {},
   "source": [
    "#### Forward Pass"
   ]
  },
  {
   "cell_type": "code",
   "execution_count": 16,
   "metadata": {},
   "outputs": [],
   "source": [
    "def forward_pass(W,x):\n",
    "    y = W @ x.T\n",
    "    return sigmoid(y)"
   ]
  },
  {
   "cell_type": "markdown",
   "metadata": {},
   "source": [
    "##### Output Classification"
   ]
  },
  {
   "cell_type": "code",
   "execution_count": 17,
   "metadata": {
    "scrolled": true
   },
   "outputs": [],
   "source": [
    "def predicted_classes(outputs):\n",
    "    predicted_classes = np.where(outputs >= 0.5, 1, 0)\n",
    "    return predicted_classes"
   ]
  },
  {
   "cell_type": "markdown",
   "metadata": {},
   "source": [
    "##### Backward Pass"
   ]
  },
  {
   "cell_type": "code",
   "execution_count": 18,
   "metadata": {},
   "outputs": [],
   "source": [
    "step_size = 0.5"
   ]
  },
  {
   "cell_type": "code",
   "execution_count": 19,
   "metadata": {},
   "outputs": [],
   "source": [
    "labels = np.array([0,0])"
   ]
  },
  {
   "cell_type": "code",
   "execution_count": 20,
   "metadata": {},
   "outputs": [],
   "source": [
    "def gradient(labels,outputs):\n",
    "    error = labels - outputs\n",
    "    return np.sum(-error*(1-outputs)*outputs*x.T, axis=1)"
   ]
  },
  {
   "cell_type": "markdown",
   "metadata": {},
   "source": [
    "#### Training"
   ]
  },
  {
   "cell_type": "code",
   "execution_count": 21,
   "metadata": {},
   "outputs": [],
   "source": [
    "iterations = 10"
   ]
  },
  {
   "cell_type": "code",
   "execution_count": 22,
   "metadata": {},
   "outputs": [
    {
     "name": "stdout",
     "output_type": "stream",
     "text": [
      "0: Labels:  [0 0] Predicted Classes:  [1 1] Outputs:  [0.67774959 0.67483157]\n",
      "1: Labels:  [0 0] Predicted Classes:  [1 1] Outputs:  [0.59549964 0.60122293]\n",
      "2: Labels:  [0 0] Predicted Classes:  [1 1] Outputs:  [0.51009824 0.52502527]\n",
      "3: Labels:  [0 0] Predicted Classes:  [0 0] Outputs:  [0.43281092 0.4554328 ]\n",
      "4: Labels:  [0 0] Predicted Classes:  [0 0] Outputs:  [0.36970225 0.39761112]\n",
      "5: Labels:  [0 0] Predicted Classes:  [0 0] Outputs:  [0.32066988 0.35175271]\n",
      "6: Labels:  [0 0] Predicted Classes:  [0 0] Outputs:  [0.28292833 0.31572662]\n",
      "7: Labels:  [0 0] Predicted Classes:  [0 0] Outputs:  [0.2535538  0.28715574]\n",
      "8: Labels:  [0 0] Predicted Classes:  [0 0] Outputs:  [0.23026478 0.26412056]\n",
      "9: Labels:  [0 0] Predicted Classes:  [0 0] Outputs:  [0.21143272 0.24521474]\n"
     ]
    },
    {
     "data": {
      "image/png": "[encoded data removed]",
      "text/plain": [
       "<Figure size 432x288 with 1 Axes>"
      ]
     },
     "metadata": {
      "needs_background": "light"
     },
     "output_type": "display_data"
    }
   ],
   "source": [
    "W = init_weights(M)\n",
    "x = get_input(N,M)\n",
    "x = np.column_stack((np.ones((N)),x)) # Add x0 for bias term\n",
    "\n",
    "loss = []\n",
    "\n",
    "for i in range(iterations):\n",
    "    outputs = forward_pass(W,x)\n",
    "    delta_W = step_size*gradient(labels, outputs)\n",
    "    W = W - delta_W \n",
    "    predicted_classes_ = predicted_classes(outputs)\n",
    "    print(str(i) + \": Labels: \", labels,\n",
    "          \"Predicted Classes: \",  predicted_classes_,\n",
    "          \"Outputs: \", outputs)\n",
    "    loss.append(np.mean(outputs))\n",
    "\n",
    "plot_loss(loss)"
   ]
  },
  {
   "cell_type": "markdown",
   "metadata": {},
   "source": [
    "### Multilayer Perceptron (MLP)"
   ]
  },
  {
   "cell_type": "code",
   "execution_count": 23,
   "metadata": {},
   "outputs": [],
   "source": [
    "N = 1 # Number of Input Vectors\n",
    "M = 10 # Number of Features"
   ]
  },
  {
   "cell_type": "code",
   "execution_count": 24,
   "metadata": {},
   "outputs": [],
   "source": [
    "num_hidd_layers = 3\n",
    "perc_per_layer = 5"
   ]
  },
  {
   "cell_type": "markdown",
   "metadata": {},
   "source": [
    "##### Forward Pass"
   ]
  },
  {
   "cell_type": "code",
   "execution_count": 25,
   "metadata": {},
   "outputs": [],
   "source": [
    "def forward_pass_mlp(W, biases, x):\n",
    "    inputs = []\n",
    "    y = []\n",
    "\n",
    "    # Input Layer\n",
    "    inputs.append(x)\n",
    "\n",
    "    # Hidden Layer\n",
    "    for layer in range(num_hidd_layers):\n",
    "        z = inputs[layer] @ W[layer].T + biases[layer]\n",
    "        y.append(z)\n",
    "        inputs.append(sigmoid(z))\n",
    "\n",
    "    # Output Layer\n",
    "    z = inputs[-1] @ W[-1] + biases[-1]\n",
    "    output = sigmoid(z)\n",
    "    return [output, inputs, y]"
   ]
  },
  {
   "cell_type": "code",
   "execution_count": 26,
   "metadata": {},
   "outputs": [
    {
     "name": "stdout",
     "output_type": "stream",
     "text": [
      "Output: [0.72084173]\n"
     ]
    }
   ],
   "source": [
    "# Forward Pass Test\n",
    "W,biases = init_multi_level_weights(num_hidd_layers, perc_per_layer, M)\n",
    "x = get_input(N,M)\n",
    "\n",
    "output, inputs, y = forward_pass_mlp(W, biases, x)\n",
    "print(\"Output:\", output)"
   ]
  },
  {
   "cell_type": "markdown",
   "metadata": {},
   "source": [
    "##### Backward Pass"
   ]
  },
  {
   "cell_type": "code",
   "execution_count": 27,
   "metadata": {},
   "outputs": [],
   "source": [
    "step_size = 0.2"
   ]
  },
  {
   "cell_type": "code",
   "execution_count": 28,
   "metadata": {},
   "outputs": [],
   "source": [
    "labels = np.array([0])"
   ]
  },
  {
   "cell_type": "code",
   "execution_count": 29,
   "metadata": {},
   "outputs": [],
   "source": [
    "def backward_pass(labels, output, W, inputs, y):\n",
    "    # Output Layer\n",
    "    delta = (output[0] - labels[0]) * d_sigmoid(output[0])\n",
    "    delta = inputs[-1] * delta\n",
    "    W[-1] = W[-1] + step_size * delta[0]\n",
    "    biases[-1] = biases[-1] - step_size * np.sum(delta,axis=1)\n",
    "    \n",
    "    # Hidden Layers\n",
    "    for l in reversed(range(num_hidd_layers)):\n",
    "        delta = (delta[0] * W[l].T * d_sigmoid(y[l])) * inputs[l].T\n",
    "        W[l] = W[l] - step_size * delta.T\n",
    "        biases[l] = biases[l] + step_size * np.sum(delta,axis=0)\n",
    "    \n",
    "    return W,biases"
   ]
  },
  {
   "cell_type": "markdown",
   "metadata": {},
   "source": [
    "#### Training"
   ]
  },
  {
   "cell_type": "code",
   "execution_count": 30,
   "metadata": {},
   "outputs": [],
   "source": [
    "iterations = 1000"
   ]
  },
  {
   "cell_type": "code",
   "execution_count": 31,
   "metadata": {},
   "outputs": [],
   "source": [
    "def print_network_info(x):\n",
    "    print(\"Number of Features per Instance: \", len(x[0]))\n",
    "    print(\"Number of Hidden Layers: \", num_hidd_layers)\n",
    "    print(\"Number of Perceptrons per Hidden Layer: \", perc_per_layer, \"\\n\")\n",
    "    print(\"Step Size: \", step_size, \"\\n\")"
   ]
  },
  {
   "cell_type": "code",
   "execution_count": 32,
   "metadata": {},
   "outputs": [
    {
     "name": "stdout",
     "output_type": "stream",
     "text": [
      "Number of Features per Instance:  10\n",
      "Number of Hidden Layers:  3\n",
      "Number of Perceptrons per Hidden Layer:  5 \n",
      "\n",
      "Step Size:  0.2 \n",
      "\n",
      "Label:  0\n",
      "Init Prediction:  0.7543192164339294\n",
      "Trained Prediction:  0.024326142224827714\n",
      "Predicted Class:  0\n"
     ]
    },
    {
     "data": {
      "image/png": "[encoded data removed]",
      "text/plain": [
       "<Figure size 432x288 with 1 Axes>"
      ]
     },
     "metadata": {
      "needs_background": "light"
     },
     "output_type": "display_data"
    }
   ],
   "source": [
    "W, biases = init_multi_level_weights(num_hidd_layers, perc_per_layer,M)\n",
    "x = get_input(N,M)\n",
    "\n",
    "print_network_info(x)\n",
    "\n",
    "print(\"Label: \", labels[0])\n",
    "print(\"Init Prediction: \", forward_pass_mlp(W,biases,x)[0][0])\n",
    "\n",
    "loss = []\n",
    "\n",
    "for i in range(iterations):\n",
    "    output, inputs, y = forward_pass_mlp(W, biases, x)\n",
    "    W, biases = backward_pass(labels, output, W, inputs, y)\n",
    "    loss.append(output[0] - labels)\n",
    "    \n",
    "print(\"Trained Prediction: \", output[0])\n",
    "print(\"Predicted Class: \", predicted_classes(output)[0])\n",
    "\n",
    "plot_loss(loss)"
   ]
  },
  {
   "cell_type": "code",
   "execution_count": null,
   "metadata": {},
   "outputs": [],
   "source": []
  }
 ],
 "metadata": {
  "kernelspec": {
   "display_name": "Python 3",
   "language": "python",
   "name": "python3"
  },
  "language_info": {
   "codemirror_mode": {
    "name": "ipython",
    "version": 3
   },
   "file_extension": ".py",
   "mimetype": "text/x-python",
   "name": "python",
   "nbconvert_exporter": "python",
   "pygments_lexer": "ipython3",
   "version": "3.8.5"
  }
 },
 "nbformat": 4,
 "nbformat_minor": 5
}
